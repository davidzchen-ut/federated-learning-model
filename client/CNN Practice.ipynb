{
 "cells": [
  {
   "cell_type": "code",
   "execution_count": 32,
   "metadata": {},
   "outputs": [],
   "source": [
    "import numpy as np\n",
    "import torch\n",
    "import torchvision\n",
    "import torchvision.transforms as transforms\n",
    "import itertools"
   ]
  },
  {
   "cell_type": "code",
   "execution_count": 18,
   "metadata": {},
   "outputs": [
    {
     "data": {
      "text/plain": [
       "<torch._C.Generator at 0x70459570>"
      ]
     },
     "execution_count": 18,
     "metadata": {},
     "output_type": "execute_result"
    }
   ],
   "source": [
    "seed = 42\n",
    "np.random.seed(seed)\n",
    "torch.manual_seed(seed)"
   ]
  },
  {
   "cell_type": "code",
   "execution_count": 19,
   "metadata": {},
   "outputs": [],
   "source": [
    "batch_size_train=60\n",
    "batch_size_test=1000\n",
    "\n",
    "train_loader = torch.utils.data.DataLoader(\n",
    "    torchvision.datasets.MNIST(root='./files', train=True, download=True, \n",
    "                               transform=torchvision.transforms.Compose([\n",
    "                                   torchvision.transforms.ToTensor(),\n",
    "                                   torchvision.transforms.Normalize((0.1307, ), (0.3081,))\n",
    "                               ])),\n",
    "    batch_size=batch_size_train, shuffle=True\n",
    ")\n",
    "\n",
    "test_loader = torch.utils.data.DataLoader(\n",
    "    torchvision.datasets.MNIST('./files', train=False, download=True,\n",
    "                              transform=torchvision.transforms.Compose([\n",
    "                                  torchvision.transforms.ToTensor(),\n",
    "                                  torchvision.transforms.Normalize((0.1307,), (0.3081,))\n",
    "                              ])),\n",
    "    batch_size=batch_size_test, shuffle=True\n",
    ")"
   ]
  },
  {
   "cell_type": "code",
   "execution_count": 21,
   "metadata": {},
   "outputs": [],
   "source": [
    "examples = enumerate(test_loader)\n",
    "batch_idx, (example_data, example_targets) = next(examples)"
   ]
  },
  {
   "cell_type": "code",
   "execution_count": 22,
   "metadata": {},
   "outputs": [
    {
     "data": {
      "text/plain": [
       "torch.Size([1000, 1, 28, 28])"
      ]
     },
     "execution_count": 22,
     "metadata": {},
     "output_type": "execute_result"
    }
   ],
   "source": [
    "example_data.shape"
   ]
  },
  {
   "cell_type": "code",
   "execution_count": 23,
   "metadata": {},
   "outputs": [
    {
     "data": {
      "image/png": "[encoded data removed]",
      "text/plain": [
       "<Figure size 432x288 with 8 Axes>"
      ]
     },
     "metadata": {},
     "output_type": "display_data"
    }
   ],
   "source": [
    "import matplotlib.pyplot as plt\n",
    "\n",
    "fig = plt.figure()\n",
    "\n",
    "for i in range(8):\n",
    "    plt.subplot(4,4,i+1)\n",
    "    plt.imshow(example_data[i][0], cmap=\"gray\", interpolation=\"none\")\n",
    "    plt.xticks([])\n",
    "    plt.yticks([])\n",
    "\n",
    "plt.show()"
   ]
  },
  {
   "cell_type": "markdown",
   "metadata": {},
   "source": [
    "## Build Network"
   ]
  },
  {
   "cell_type": "code",
   "execution_count": 24,
   "metadata": {},
   "outputs": [],
   "source": [
    "import torch.nn as nn\n",
    "import torch.nn.functional as F\n",
    "import torch.optim as optim"
   ]
  },
  {
   "cell_type": "code",
   "execution_count": 25,
   "metadata": {},
   "outputs": [],
   "source": [
    "class Net(nn.Module):\n",
    "    def __init__(self):\n",
    "        super(Net, self).__init__()\n",
    "        \n",
    "        self.conv1 = nn.Conv2d(1, 10, kernel_size=5)\n",
    "        self.conv2 = nn.Conv2d(10, 20, kernel_size=5)\n",
    "        self.conv2_drop = nn.Dropout2d()\n",
    "        self.fc1 = nn.Linear(320, 50)\n",
    "        self.fc2 = nn.Linear(50, 10)\n",
    "        \n",
    "    def forward(self, x):\n",
    "        x = F.relu(F.max_pool2d(self.conv1(x), 2))\n",
    "        x = F.relu(F.max_pool2d(self.conv2(x), 2))\n",
    "        x = x.view(-1, 320)\n",
    "        x = F.relu(self.fc1(x))\n",
    "        x = F.dropout(x, training=self.training)\n",
    "        x = self.fc2(x)\n",
    "        return F.log_softmax(x)\n",
    "    \n"
   ]
  },
  {
   "cell_type": "markdown",
   "metadata": {},
   "source": [
    "## Initalize Network and Optimizer"
   ]
  },
  {
   "cell_type": "code",
   "execution_count": 26,
   "metadata": {},
   "outputs": [],
   "source": [
    "learning_rate = 0.01\n",
    "epochs = 3\n",
    "log_interval = 10\n",
    "\n",
    "\n",
    "network = Net().to(\"cpu\")\n",
    "optimizer = optim.SGD(network.parameters(), lr=learning_rate)"
   ]
  },
  {
   "cell_type": "markdown",
   "metadata": {},
   "source": [
    "## Training Model"
   ]
  },
  {
   "cell_type": "code",
   "execution_count": 47,
   "metadata": {},
   "outputs": [],
   "source": [
    "def train(device):\n",
    "    network.train() #set network to training mode\n",
    "        \n",
    "    batch_idx = -1\n",
    "    for (data, target) in itertools.islice(train_loader, 20):\n",
    "        batch_idx += 1\n",
    "        data, target = data.to(device), target.to(device)\n",
    "        optimizer.zero_grad()\n",
    "        output = network(data)\n",
    "        loss = F.nll_loss(output, target)\n",
    "        loss.backward()\n",
    "        optimizer.step()\n",
    "        print('Train Epoch: {} [{}/{} ({:.2f}%)]\\tLoss: {:.6f}'.format(\n",
    "            epoch, batch_idx * len(data), len(train_loader.dataset),\n",
    "            100. * batch_idx / len(train_loader), loss.item()\n",
    "        ))"
   ]
  },
  {
   "cell_type": "markdown",
   "metadata": {},
   "source": [
    "## Test Function"
   ]
  },
  {
   "cell_type": "code",
   "execution_count": 45,
   "metadata": {},
   "outputs": [],
   "source": [
    "test_losses = []\n",
    "\n",
    "def test(device):\n",
    "    network.eval()\n",
    "    test_loss = 0\n",
    "    correct = 0\n",
    "    with torch.no_grad():\n",
    "        for data, target in itertools.islice(test_loader, 100):\n",
    "            data, target = data.to(device), target.to(device)\n",
    "            output = network(data)\n",
    "            test_loss += F.nll_loss(output, target, size_average=False).item()\n",
    "            pred = output.data.max(1, keepdim=True)[1]\n",
    "            correct += pred.eq(target.data.view_as(pred)).sum()\n",
    "        test_loss /= len(test_loader.dataset)\n",
    "        test_losses.append(test_loss)\n",
    "        print('\\nTest set: Avg. loss: {:.4f}, Accuracy: {}/{} ({:.0f}%)\\n'.format(\n",
    "            test_loss, correct, len(test_loader.dataset),\n",
    "            100. * correct / len(test_loader.dataset)))"
   ]
  },
  {
   "cell_type": "markdown",
   "metadata": {},
   "source": [
    "## Test with CPU"
   ]
  },
  {
   "cell_type": "code",
   "execution_count": 48,
   "metadata": {},
   "outputs": [
    {
     "name": "stderr",
     "output_type": "stream",
     "text": [
      "/usr/lib/python3/dist-packages/ipykernel_launcher.py:18: UserWarning: Implicit dimension choice for log_softmax has been deprecated. Change the call to include dim=X as an argument.\n",
      "/home/pi/.local/lib/python3.7/site-packages/torch/nn/_reduction.py:49: UserWarning: size_average and reduce args will be deprecated, please use reduction='sum' instead.\n",
      "  warnings.warn(warning.format(ret))\n"
     ]
    },
    {
     "name": "stdout",
     "output_type": "stream",
     "text": [
      "\n",
      "Test set: Avg. loss: 2.2780, Accuracy: 1676/10000 (16%)\n",
      "\n",
      "Train Epoch: 0 [0/60000 (0.00%)]\tLoss: 2.292901\n",
      "Train Epoch: 0 [60/60000 (0.10%)]\tLoss: 2.278861\n",
      "Train Epoch: 0 [120/60000 (0.20%)]\tLoss: 2.289899\n",
      "Train Epoch: 0 [180/60000 (0.30%)]\tLoss: 2.265180\n",
      "Train Epoch: 0 [240/60000 (0.40%)]\tLoss: 2.282387\n",
      "Train Epoch: 0 [300/60000 (0.50%)]\tLoss: 2.273142\n",
      "Train Epoch: 0 [360/60000 (0.60%)]\tLoss: 2.255084\n",
      "Train Epoch: 0 [420/60000 (0.70%)]\tLoss: 2.260707\n",
      "Train Epoch: 0 [480/60000 (0.80%)]\tLoss: 2.267540\n",
      "Train Epoch: 0 [540/60000 (0.90%)]\tLoss: 2.273759\n",
      "Train Epoch: 0 [600/60000 (1.00%)]\tLoss: 2.261919\n",
      "Train Epoch: 0 [660/60000 (1.10%)]\tLoss: 2.266442\n",
      "Train Epoch: 0 [720/60000 (1.20%)]\tLoss: 2.254170\n",
      "Train Epoch: 0 [780/60000 (1.30%)]\tLoss: 2.267563\n",
      "Train Epoch: 0 [840/60000 (1.40%)]\tLoss: 2.286077\n",
      "Train Epoch: 0 [900/60000 (1.50%)]\tLoss: 2.272125\n",
      "Train Epoch: 0 [960/60000 (1.60%)]\tLoss: 2.279553\n",
      "Train Epoch: 0 [1020/60000 (1.70%)]\tLoss: 2.278034\n",
      "Train Epoch: 0 [1080/60000 (1.80%)]\tLoss: 2.263417\n",
      "Train Epoch: 0 [1140/60000 (1.90%)]\tLoss: 2.282841\n",
      "\n",
      "Test set: Avg. loss: 2.2604, Accuracy: 2315/10000 (23%)\n",
      "\n",
      "Train Epoch: 1 [0/60000 (0.00%)]\tLoss: 2.258874\n",
      "Train Epoch: 1 [60/60000 (0.10%)]\tLoss: 2.269833\n",
      "Train Epoch: 1 [120/60000 (0.20%)]\tLoss: 2.285194\n",
      "Train Epoch: 1 [180/60000 (0.30%)]\tLoss: 2.269696\n",
      "Train Epoch: 1 [240/60000 (0.40%)]\tLoss: 2.258620\n",
      "Train Epoch: 1 [300/60000 (0.50%)]\tLoss: 2.266671\n",
      "Train Epoch: 1 [360/60000 (0.60%)]\tLoss: 2.253954\n",
      "Train Epoch: 1 [420/60000 (0.70%)]\tLoss: 2.274616\n",
      "Train Epoch: 1 [480/60000 (0.80%)]\tLoss: 2.263871\n",
      "Train Epoch: 1 [540/60000 (0.90%)]\tLoss: 2.252355\n",
      "Train Epoch: 1 [600/60000 (1.00%)]\tLoss: 2.285262\n",
      "Train Epoch: 1 [660/60000 (1.10%)]\tLoss: 2.246260\n",
      "Train Epoch: 1 [720/60000 (1.20%)]\tLoss: 2.258769\n",
      "Train Epoch: 1 [780/60000 (1.30%)]\tLoss: 2.221820\n",
      "Train Epoch: 1 [840/60000 (1.40%)]\tLoss: 2.266957\n",
      "Train Epoch: 1 [900/60000 (1.50%)]\tLoss: 2.226747\n",
      "Train Epoch: 1 [960/60000 (1.60%)]\tLoss: 2.233945\n",
      "Train Epoch: 1 [1020/60000 (1.70%)]\tLoss: 2.243741\n",
      "Train Epoch: 1 [1080/60000 (1.80%)]\tLoss: 2.241315\n",
      "Train Epoch: 1 [1140/60000 (1.90%)]\tLoss: 2.240395\n",
      "\n",
      "Test set: Avg. loss: 2.2405, Accuracy: 3180/10000 (31%)\n",
      "\n",
      "Train Epoch: 2 [0/60000 (0.00%)]\tLoss: 2.221622\n",
      "Train Epoch: 2 [60/60000 (0.10%)]\tLoss: 2.240405\n",
      "Train Epoch: 2 [120/60000 (0.20%)]\tLoss: 2.225717\n",
      "Train Epoch: 2 [180/60000 (0.30%)]\tLoss: 2.242064\n",
      "Train Epoch: 2 [240/60000 (0.40%)]\tLoss: 2.234415\n",
      "Train Epoch: 2 [300/60000 (0.50%)]\tLoss: 2.270275\n",
      "Train Epoch: 2 [360/60000 (0.60%)]\tLoss: 2.229001\n",
      "Train Epoch: 2 [420/60000 (0.70%)]\tLoss: 2.248941\n",
      "Train Epoch: 2 [480/60000 (0.80%)]\tLoss: 2.233051\n",
      "Train Epoch: 2 [540/60000 (0.90%)]\tLoss: 2.230219\n",
      "Train Epoch: 2 [600/60000 (1.00%)]\tLoss: 2.264623\n",
      "Train Epoch: 2 [660/60000 (1.10%)]\tLoss: 2.219026\n",
      "Train Epoch: 2 [720/60000 (1.20%)]\tLoss: 2.229125\n",
      "Train Epoch: 2 [780/60000 (1.30%)]\tLoss: 2.224068\n",
      "Train Epoch: 2 [840/60000 (1.40%)]\tLoss: 2.226811\n",
      "Train Epoch: 2 [900/60000 (1.50%)]\tLoss: 2.227175\n",
      "Train Epoch: 2 [960/60000 (1.60%)]\tLoss: 2.227784\n",
      "Train Epoch: 2 [1020/60000 (1.70%)]\tLoss: 2.249491\n",
      "Train Epoch: 2 [1080/60000 (1.80%)]\tLoss: 2.243336\n",
      "Train Epoch: 2 [1140/60000 (1.90%)]\tLoss: 2.243324\n",
      "\n",
      "Test set: Avg. loss: 2.2154, Accuracy: 4035/10000 (40%)\n",
      "\n",
      "CPU took 207.83894538879395 seconds\n"
     ]
    }
   ],
   "source": [
    "import time\n",
    "start_time = time.time()\n",
    "\n",
    "test(\"cpu\")\n",
    "for epoch in range(epochs):\n",
    "    train(\"cpu\")\n",
    "    test(\"cpu\")\n",
    "    \n",
    "print(\"CPU took %s seconds\" % (time.time() - start_time))"
   ]
  },
  {
   "cell_type": "code",
   "execution_count": null,
   "metadata": {},
   "outputs": [],
   "source": []
  }
 ],
 "metadata": {
  "kernelspec": {
   "display_name": "Python 3",
   "language": "python",
   "name": "python3"
  },
  "language_info": {
   "codemirror_mode": {
    "name": "ipython",
    "version": 3
   },
   "file_extension": ".py",
   "mimetype": "text/x-python",
   "name": "python",
   "nbconvert_exporter": "python",
   "pygments_lexer": "ipython3",
   "version": "3.7.3"
  }
 },
 "nbformat": 4,
 "nbformat_minor": 2
}
